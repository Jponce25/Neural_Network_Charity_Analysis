{
 "cells": [
  {
   "cell_type": "code",
   "execution_count": 1,
   "id": "344b728f",
   "metadata": {},
   "outputs": [],
   "source": [
    "# Import our dependencies\n",
    "import pandas as pd\n",
    "import matplotlib as plt\n",
    "from sklearn.datasets import make_blobs\n",
    "import sklearn as skl\n",
    "import tensorflow as tf\n"
   ]
  },
  {
   "cell_type": "code",
   "execution_count": 2,
   "id": "48b6c280",
   "metadata": {},
   "outputs": [
    {
     "data": {
      "text/plain": [
       "<AxesSubplot:xlabel='Feature 1', ylabel='Feature 2'>"
      ]
     },
     "execution_count": 2,
     "metadata": {},
     "output_type": "execute_result"
    },
    {
     "data": {
      "image/png": "[encoded data removed]",
      "text/plain": [
       "<Figure size 432x288 with 2 Axes>"
      ]
     },
     "metadata": {
      "needs_background": "light"
     },
     "output_type": "display_data"
    }
   ],
   "source": [
    "# Generate dummy dataset\n",
    "X, y = make_blobs(n_samples=1000, centers=2, n_features=2, random_state=78)\n",
    "# Creating a DataFrame with the dummy data\n",
    "df = pd.DataFrame(X, columns=[\"Feature 1\", \"Feature 2\"])\n",
    "df[\"Target\"] = y\n",
    "# Plotting the dummy data\n",
    "df.plot.scatter(x=\"Feature 1\", y=\"Feature 2\", c=\"Target\", colormap=\"winter\")\n"
   ]
  },
  {
   "cell_type": "code",
   "execution_count": 3,
   "id": "71db2172",
   "metadata": {},
   "outputs": [],
   "source": [
    "# Use sklearn to split dataset\n",
    "from sklearn.model_selection import train_test_split\n",
    "X_train, X_test, y_train, y_test = train_test_split(X, y, random_state=78)"
   ]
  },
  {
   "cell_type": "code",
   "execution_count": 4,
   "id": "d6298d0a",
   "metadata": {},
   "outputs": [],
   "source": [
    "# Create scaler instance\n",
    "X_scaler = skl.preprocessing.StandardScaler()\n",
    "# Fit the scaler\n",
    "X_scaler.fit(X_train)\n",
    "# Scale the data\n",
    "X_train_scaled = X_scaler.transform(X_train)\n",
    "X_test_scaled = X_scaler.transform(X_test)\n"
   ]
  },
  {
   "cell_type": "code",
   "execution_count": 5,
   "id": "5b0aae56",
   "metadata": {},
   "outputs": [],
   "source": [
    "# Create the Keras Sequential model\n",
    "nn_model = tf.keras.models.Sequential()"
   ]
  },
  {
   "cell_type": "code",
   "execution_count": 6,
   "id": "2c33aa94",
   "metadata": {},
   "outputs": [],
   "source": [
    "# Add our first Dense layer, including the input layer\n",
    "nn_model.add(tf.keras.layers.Dense(units=1, activation=\"relu\", input_dim=2))"
   ]
  },
  {
   "cell_type": "code",
   "execution_count": 7,
   "id": "b260757b",
   "metadata": {},
   "outputs": [],
   "source": [
    "# Add the output layer that uses a probability activation function\n",
    "nn_model.add(tf.keras.layers.Dense(units=1, activation=\"sigmoid\"))"
   ]
  },
  {
   "cell_type": "code",
   "execution_count": 8,
   "id": "096900e6",
   "metadata": {},
   "outputs": [
    {
     "name": "stdout",
     "output_type": "stream",
     "text": [
      "Model: \"sequential\"\n",
      "_________________________________________________________________\n",
      " Layer (type)                Output Shape              Param #   \n",
      "=================================================================\n",
      " dense (Dense)               (None, 1)                 3         \n",
      "                                                                 \n",
      " dense_1 (Dense)             (None, 1)                 2         \n",
      "                                                                 \n",
      "=================================================================\n",
      "Total params: 5\n",
      "Trainable params: 5\n",
      "Non-trainable params: 0\n",
      "_________________________________________________________________\n"
     ]
    }
   ],
   "source": [
    "# Check the structure of the Sequential model\n",
    "nn_model.summary()"
   ]
  },
  {
   "cell_type": "code",
   "execution_count": 9,
   "id": "e15ff6c1",
   "metadata": {},
   "outputs": [],
   "source": [
    "# Compile the Sequential model together and customize metrics\n",
    "nn_model.compile(loss=\"binary_crossentropy\", optimizer=\"adam\", metrics=[\"accuracy\"])"
   ]
  },
  {
   "cell_type": "code",
   "execution_count": 10,
   "id": "2f71866a",
   "metadata": {},
   "outputs": [
    {
     "name": "stdout",
     "output_type": "stream",
     "text": [
      "Epoch 1/100\n",
      "24/24 [==============================] - 0s 1ms/step - loss: 0.5394 - accuracy: 0.9360\n",
      "Epoch 2/100\n",
      "24/24 [==============================] - 0s 1ms/step - loss: 0.5283 - accuracy: 0.9560\n",
      "Epoch 3/100\n",
      "24/24 [==============================] - 0s 1ms/step - loss: 0.5171 - accuracy: 0.9573\n",
      "Epoch 4/100\n",
      "24/24 [==============================] - 0s 961us/step - loss: 0.5058 - accuracy: 0.9573\n",
      "Epoch 5/100\n",
      "24/24 [==============================] - 0s 1ms/step - loss: 0.4946 - accuracy: 0.9573\n",
      "Epoch 6/100\n",
      "24/24 [==============================] - 0s 1ms/step - loss: 0.4833 - accuracy: 0.9573\n",
      "Epoch 7/100\n",
      "24/24 [==============================] - 0s 1ms/step - loss: 0.4722 - accuracy: 0.9600\n",
      "Epoch 8/100\n",
      "24/24 [==============================] - 0s 1ms/step - loss: 0.4612 - accuracy: 0.9600\n",
      "Epoch 9/100\n",
      "24/24 [==============================] - 0s 1ms/step - loss: 0.4504 - accuracy: 0.9613\n",
      "Epoch 10/100\n",
      "24/24 [==============================] - 0s 1ms/step - loss: 0.4397 - accuracy: 0.9613\n",
      "Epoch 11/100\n",
      "24/24 [==============================] - 0s 1ms/step - loss: 0.4293 - accuracy: 0.9640\n",
      "Epoch 12/100\n",
      "24/24 [==============================] - 0s 1ms/step - loss: 0.4192 - accuracy: 0.9680\n",
      "Epoch 13/100\n",
      "24/24 [==============================] - 0s 1ms/step - loss: 0.4092 - accuracy: 0.9693\n",
      "Epoch 14/100\n",
      "24/24 [==============================] - 0s 1ms/step - loss: 0.3994 - accuracy: 0.9693\n",
      "Epoch 15/100\n",
      "24/24 [==============================] - 0s 1ms/step - loss: 0.3900 - accuracy: 0.9707\n",
      "Epoch 16/100\n",
      "24/24 [==============================] - 0s 1ms/step - loss: 0.3808 - accuracy: 0.9733\n",
      "Epoch 17/100\n",
      "24/24 [==============================] - 0s 1ms/step - loss: 0.3718 - accuracy: 0.9733\n",
      "Epoch 18/100\n",
      "24/24 [==============================] - 0s 1ms/step - loss: 0.3630 - accuracy: 0.9733\n",
      "Epoch 19/100\n",
      "24/24 [==============================] - 0s 1ms/step - loss: 0.3545 - accuracy: 0.9747\n",
      "Epoch 20/100\n",
      "24/24 [==============================] - 0s 1ms/step - loss: 0.3462 - accuracy: 0.9747\n",
      "Epoch 21/100\n",
      "24/24 [==============================] - 0s 1ms/step - loss: 0.3380 - accuracy: 0.9760\n",
      "Epoch 22/100\n",
      "24/24 [==============================] - 0s 1ms/step - loss: 0.3302 - accuracy: 0.9773\n",
      "Epoch 23/100\n",
      "24/24 [==============================] - 0s 1ms/step - loss: 0.3225 - accuracy: 0.9773\n",
      "Epoch 24/100\n",
      "24/24 [==============================] - 0s 924us/step - loss: 0.3151 - accuracy: 0.9773\n",
      "Epoch 25/100\n",
      "24/24 [==============================] - 0s 945us/step - loss: 0.3079 - accuracy: 0.9800\n",
      "Epoch 26/100\n",
      "24/24 [==============================] - 0s 944us/step - loss: 0.3008 - accuracy: 0.9840\n",
      "Epoch 27/100\n",
      "24/24 [==============================] - 0s 1ms/step - loss: 0.2940 - accuracy: 0.9840\n",
      "Epoch 28/100\n",
      "24/24 [==============================] - 0s 1ms/step - loss: 0.2875 - accuracy: 0.9840\n",
      "Epoch 29/100\n",
      "24/24 [==============================] - 0s 1ms/step - loss: 0.2810 - accuracy: 0.9840\n",
      "Epoch 30/100\n",
      "24/24 [==============================] - 0s 1ms/step - loss: 0.2748 - accuracy: 0.9853\n",
      "Epoch 31/100\n",
      "24/24 [==============================] - 0s 930us/step - loss: 0.2687 - accuracy: 0.9853\n",
      "Epoch 32/100\n",
      "24/24 [==============================] - 0s 1ms/step - loss: 0.2628 - accuracy: 0.9853\n",
      "Epoch 33/100\n",
      "24/24 [==============================] - 0s 995us/step - loss: 0.2570 - accuracy: 0.9853\n",
      "Epoch 34/100\n",
      "24/24 [==============================] - 0s 955us/step - loss: 0.2514 - accuracy: 0.9853\n",
      "Epoch 35/100\n",
      "24/24 [==============================] - 0s 1ms/step - loss: 0.2459 - accuracy: 0.9867\n",
      "Epoch 36/100\n",
      "24/24 [==============================] - 0s 1ms/step - loss: 0.2406 - accuracy: 0.9880\n",
      "Epoch 37/100\n",
      "24/24 [==============================] - 0s 1ms/step - loss: 0.2353 - accuracy: 0.9880\n",
      "Epoch 38/100\n",
      "24/24 [==============================] - 0s 999us/step - loss: 0.2303 - accuracy: 0.9907\n",
      "Epoch 39/100\n",
      "24/24 [==============================] - 0s 1ms/step - loss: 0.2253 - accuracy: 0.9907\n",
      "Epoch 40/100\n",
      "24/24 [==============================] - 0s 981us/step - loss: 0.2206 - accuracy: 0.9907\n",
      "Epoch 41/100\n",
      "24/24 [==============================] - 0s 1ms/step - loss: 0.2159 - accuracy: 0.9907\n",
      "Epoch 42/100\n",
      "24/24 [==============================] - 0s 1ms/step - loss: 0.2114 - accuracy: 0.9907\n",
      "Epoch 43/100\n",
      "24/24 [==============================] - 0s 1ms/step - loss: 0.2070 - accuracy: 0.9933\n",
      "Epoch 44/100\n",
      "24/24 [==============================] - 0s 1ms/step - loss: 0.2026 - accuracy: 0.9947\n",
      "Epoch 45/100\n",
      "24/24 [==============================] - 0s 1ms/step - loss: 0.1984 - accuracy: 0.9947\n",
      "Epoch 46/100\n",
      "24/24 [==============================] - 0s 1ms/step - loss: 0.1943 - accuracy: 0.9947\n",
      "Epoch 47/100\n",
      "24/24 [==============================] - 0s 1ms/step - loss: 0.1902 - accuracy: 0.9947\n",
      "Epoch 48/100\n",
      "24/24 [==============================] - 0s 1ms/step - loss: 0.1863 - accuracy: 0.9947\n",
      "Epoch 49/100\n",
      "24/24 [==============================] - 0s 703us/step - loss: 0.1825 - accuracy: 0.9947\n",
      "Epoch 50/100\n",
      "24/24 [==============================] - 0s 611us/step - loss: 0.1788 - accuracy: 0.9947\n",
      "Epoch 51/100\n",
      "24/24 [==============================] - 0s 563us/step - loss: 0.1752 - accuracy: 0.9947\n",
      "Epoch 52/100\n",
      "24/24 [==============================] - 0s 607us/step - loss: 0.1716 - accuracy: 0.9947\n",
      "Epoch 53/100\n",
      "24/24 [==============================] - 0s 993us/step - loss: 0.1682 - accuracy: 0.9947\n",
      "Epoch 54/100\n",
      "24/24 [==============================] - 0s 952us/step - loss: 0.1648 - accuracy: 0.9947\n",
      "Epoch 55/100\n",
      "24/24 [==============================] - 0s 975us/step - loss: 0.1616 - accuracy: 0.9947\n",
      "Epoch 56/100\n",
      "24/24 [==============================] - 0s 981us/step - loss: 0.1584 - accuracy: 0.9960\n",
      "Epoch 57/100\n",
      "24/24 [==============================] - 0s 915us/step - loss: 0.1553 - accuracy: 0.9960\n",
      "Epoch 58/100\n",
      "24/24 [==============================] - 0s 1ms/step - loss: 0.1523 - accuracy: 0.9960\n",
      "Epoch 59/100\n",
      "24/24 [==============================] - 0s 1ms/step - loss: 0.1493 - accuracy: 0.9960\n",
      "Epoch 60/100\n",
      "24/24 [==============================] - 0s 1ms/step - loss: 0.1465 - accuracy: 0.9960\n",
      "Epoch 61/100\n",
      "24/24 [==============================] - 0s 985us/step - loss: 0.1437 - accuracy: 0.9960\n",
      "Epoch 62/100\n",
      "24/24 [==============================] - 0s 992us/step - loss: 0.1410 - accuracy: 0.9960\n",
      "Epoch 63/100\n",
      "24/24 [==============================] - 0s 1ms/step - loss: 0.1383 - accuracy: 0.9960\n",
      "Epoch 64/100\n",
      "24/24 [==============================] - 0s 1ms/step - loss: 0.1358 - accuracy: 0.9960\n",
      "Epoch 65/100\n",
      "24/24 [==============================] - 0s 1ms/step - loss: 0.1333 - accuracy: 0.9960\n",
      "Epoch 66/100\n",
      "24/24 [==============================] - 0s 1ms/step - loss: 0.1308 - accuracy: 0.9960\n",
      "Epoch 67/100\n",
      "24/24 [==============================] - 0s 974us/step - loss: 0.1284 - accuracy: 0.9960\n",
      "Epoch 68/100\n",
      "24/24 [==============================] - 0s 1ms/step - loss: 0.1261 - accuracy: 0.9960\n",
      "Epoch 69/100\n",
      "24/24 [==============================] - 0s 980us/step - loss: 0.1238 - accuracy: 0.9960\n",
      "Epoch 70/100\n",
      "24/24 [==============================] - 0s 1ms/step - loss: 0.1215 - accuracy: 0.9960\n",
      "Epoch 71/100\n",
      "24/24 [==============================] - 0s 931us/step - loss: 0.1194 - accuracy: 0.9960\n",
      "Epoch 72/100\n",
      "24/24 [==============================] - 0s 879us/step - loss: 0.1172 - accuracy: 0.9960\n",
      "Epoch 73/100\n",
      "24/24 [==============================] - 0s 1ms/step - loss: 0.1151 - accuracy: 0.9960\n",
      "Epoch 74/100\n",
      "24/24 [==============================] - 0s 1ms/step - loss: 0.1131 - accuracy: 0.9973\n",
      "Epoch 75/100\n",
      "24/24 [==============================] - 0s 999us/step - loss: 0.1112 - accuracy: 0.9987\n",
      "Epoch 76/100\n",
      "24/24 [==============================] - 0s 1ms/step - loss: 0.1092 - accuracy: 1.0000\n",
      "Epoch 77/100\n",
      "24/24 [==============================] - 0s 1ms/step - loss: 0.1073 - accuracy: 1.0000\n",
      "Epoch 78/100\n",
      "24/24 [==============================] - 0s 1ms/step - loss: 0.1055 - accuracy: 1.0000\n",
      "Epoch 79/100\n",
      "24/24 [==============================] - 0s 976us/step - loss: 0.1037 - accuracy: 1.0000\n",
      "Epoch 80/100\n",
      "24/24 [==============================] - 0s 973us/step - loss: 0.1019 - accuracy: 1.0000\n",
      "Epoch 81/100\n",
      "24/24 [==============================] - 0s 1ms/step - loss: 0.1002 - accuracy: 1.0000\n",
      "Epoch 82/100\n"
     ]
    },
    {
     "name": "stdout",
     "output_type": "stream",
     "text": [
      "24/24 [==============================] - 0s 1ms/step - loss: 0.0986 - accuracy: 1.0000\n",
      "Epoch 83/100\n",
      "24/24 [==============================] - 0s 1ms/step - loss: 0.0969 - accuracy: 1.0000\n",
      "Epoch 84/100\n",
      "24/24 [==============================] - 0s 930us/step - loss: 0.0953 - accuracy: 1.0000\n",
      "Epoch 85/100\n",
      "24/24 [==============================] - 0s 1ms/step - loss: 0.0937 - accuracy: 1.0000\n",
      "Epoch 86/100\n",
      "24/24 [==============================] - 0s 1ms/step - loss: 0.0922 - accuracy: 1.0000\n",
      "Epoch 87/100\n",
      "24/24 [==============================] - 0s 1ms/step - loss: 0.0907 - accuracy: 1.0000\n",
      "Epoch 88/100\n",
      "24/24 [==============================] - 0s 1ms/step - loss: 0.0892 - accuracy: 1.0000\n",
      "Epoch 89/100\n",
      "24/24 [==============================] - 0s 958us/step - loss: 0.0877 - accuracy: 1.0000\n",
      "Epoch 90/100\n",
      "24/24 [==============================] - 0s 920us/step - loss: 0.0863 - accuracy: 1.0000\n",
      "Epoch 91/100\n",
      "24/24 [==============================] - 0s 916us/step - loss: 0.0850 - accuracy: 1.0000\n",
      "Epoch 92/100\n",
      "24/24 [==============================] - 0s 850us/step - loss: 0.0836 - accuracy: 1.0000\n",
      "Epoch 93/100\n",
      "24/24 [==============================] - 0s 1ms/step - loss: 0.0823 - accuracy: 1.0000\n",
      "Epoch 94/100\n",
      "24/24 [==============================] - 0s 847us/step - loss: 0.0810 - accuracy: 1.0000\n",
      "Epoch 95/100\n",
      "24/24 [==============================] - 0s 902us/step - loss: 0.0798 - accuracy: 1.0000\n",
      "Epoch 96/100\n",
      "24/24 [==============================] - 0s 921us/step - loss: 0.0785 - accuracy: 1.0000\n",
      "Epoch 97/100\n",
      "24/24 [==============================] - 0s 960us/step - loss: 0.0773 - accuracy: 1.0000\n",
      "Epoch 98/100\n",
      "24/24 [==============================] - 0s 1ms/step - loss: 0.0761 - accuracy: 1.0000\n",
      "Epoch 99/100\n",
      "24/24 [==============================] - 0s 910us/step - loss: 0.0749 - accuracy: 1.0000\n",
      "Epoch 100/100\n",
      "24/24 [==============================] - 0s 1ms/step - loss: 0.0738 - accuracy: 1.0000\n"
     ]
    }
   ],
   "source": [
    "# Fit the model to the training data\n",
    "fit_model = nn_model.fit(X_train_scaled, y_train, epochs=100)"
   ]
  },
  {
   "cell_type": "code",
   "execution_count": 11,
   "id": "9cc4e02d",
   "metadata": {},
   "outputs": [
    {
     "data": {
      "text/plain": [
       "<AxesSubplot:>"
      ]
     },
     "execution_count": 11,
     "metadata": {},
     "output_type": "execute_result"
    },
    {
     "data": {
      "image/png": "[encoded data removed]",
      "text/plain": [
       "<Figure size 432x288 with 1 Axes>"
      ]
     },
     "metadata": {
      "needs_background": "light"
     },
     "output_type": "display_data"
    }
   ],
   "source": [
    "# Create a DataFrame containing training history\n",
    "history_df = pd.DataFrame(fit_model.history, index=range(1,len(fit_model.history[\"loss\"])+1))\n",
    "# Plot the loss\n",
    "history_df.plot(y=\"loss\")"
   ]
  },
  {
   "cell_type": "code",
   "execution_count": 12,
   "id": "a7ed661e",
   "metadata": {},
   "outputs": [
    {
     "data": {
      "text/plain": [
       "<AxesSubplot:>"
      ]
     },
     "execution_count": 12,
     "metadata": {},
     "output_type": "execute_result"
    },
    {
     "data": {
      "image/png": "[encoded data removed]",
      "text/plain": [
       "<Figure size 432x288 with 1 Axes>"
      ]
     },
     "metadata": {
      "needs_background": "light"
     },
     "output_type": "display_data"
    }
   ],
   "source": [
    "# Plot the accuracy\n",
    "history_df.plot(y=\"accuracy\")"
   ]
  },
  {
   "cell_type": "code",
   "execution_count": 13,
   "id": "ad349617",
   "metadata": {},
   "outputs": [
    {
     "name": "stdout",
     "output_type": "stream",
     "text": [
      "8/8 - 0s - loss: 0.0743 - accuracy: 1.0000 - 98ms/epoch - 12ms/step\n",
      "Loss: 0.07432249933481216, Accuracy: 1.0\n"
     ]
    }
   ],
   "source": [
    "# Evaluate the model using the test data\n",
    "model_loss, model_accuracy = nn_model.evaluate(X_test_scaled,y_test,verbose=2)\n",
    "print(f\"Loss: {model_loss}, Accuracy: {model_accuracy}\")"
   ]
  },
  {
   "cell_type": "code",
   "execution_count": 14,
   "id": "b159bb49",
   "metadata": {},
   "outputs": [
    {
     "data": {
      "text/plain": [
       "array([[0],\n",
       "       [1],\n",
       "       [0],\n",
       "       [1],\n",
       "       [0],\n",
       "       [0],\n",
       "       [1],\n",
       "       [1],\n",
       "       [1],\n",
       "       [0]])"
      ]
     },
     "execution_count": 14,
     "metadata": {},
     "output_type": "execute_result"
    }
   ],
   "source": [
    "# Predict the classification of a new set of blob data\n",
    "new_X, new_Y = make_blobs(n_samples=10, centers=2, n_features=2, random_state=78)\n",
    "new_X_scaled = X_scaler.transform(new_X)\n",
    "(nn_model.predict(new_X_scaled) > 0.5).astype(\"int32\")\n"
   ]
  },
  {
   "cell_type": "code",
   "execution_count": 15,
   "id": "fd64abb6",
   "metadata": {},
   "outputs": [
    {
     "data": {
      "text/plain": [
       "<AxesSubplot:xlabel='Feature 1', ylabel='Feature 2'>"
      ]
     },
     "execution_count": 15,
     "metadata": {},
     "output_type": "execute_result"
    },
    {
     "data": {
      "image/png": "[encoded data removed]",
      "text/plain": [
       "<Figure size 432x288 with 2 Axes>"
      ]
     },
     "metadata": {
      "needs_background": "light"
     },
     "output_type": "display_data"
    }
   ],
   "source": [
    "from sklearn.datasets import make_moons\n",
    "\n",
    "# Creating dummy nonlinear data\n",
    "X_moons, y_moons = make_moons(n_samples=1000, noise=0.08, random_state=78)\n",
    "\n",
    "# Transforming y_moons to a vertical vector\n",
    "y_moons = y_moons.reshape(-1, 1)\n",
    "\n",
    "# Creating a DataFrame to plot the nonlinear dummy data\n",
    "df_moons = pd.DataFrame(X_moons, columns=[\"Feature 1\", \"Feature 2\"])\n",
    "df_moons[\"Target\"] = y_moons\n",
    "\n",
    "# Plot the nonlinear dummy data\n",
    "df_moons.plot.scatter(x=\"Feature 1\",y=\"Feature 2\", c=\"Target\",colormap=\"winter\")"
   ]
  },
  {
   "cell_type": "code",
   "execution_count": 16,
   "id": "9c373c88",
   "metadata": {},
   "outputs": [],
   "source": [
    "# Create training and testing sets\n",
    "X_moon_train, X_moon_test, y_moon_train, y_moon_test = train_test_split(\n",
    "    X_moons, y_moons, random_state=78\n",
    ")\n",
    "\n",
    "# Create the scaler instance\n",
    "X_moon_scaler = skl.preprocessing.StandardScaler()\n",
    "\n",
    "# Fit the scaler\n",
    "X_moon_scaler.fit(X_moon_train)\n",
    "\n",
    "# Scale the data\n",
    "X_moon_train_scaled = X_moon_scaler.transform(X_moon_train)\n",
    "X_moon_test_scaled = X_moon_scaler.transform(X_moon_test)"
   ]
  },
  {
   "cell_type": "code",
   "execution_count": 17,
   "id": "24918bf8",
   "metadata": {},
   "outputs": [
    {
     "name": "stdout",
     "output_type": "stream",
     "text": [
      "Epoch 1/100\n",
      "24/24 [==============================] - 0s 1ms/step - loss: 1.2914 - accuracy: 0.4093\n",
      "Epoch 2/100\n",
      "24/24 [==============================] - 0s 1ms/step - loss: 1.1519 - accuracy: 0.4400\n",
      "Epoch 3/100\n",
      "24/24 [==============================] - 0s 1ms/step - loss: 1.0583 - accuracy: 0.4547\n",
      "Epoch 4/100\n",
      "24/24 [==============================] - 0s 1ms/step - loss: 0.9948 - accuracy: 0.4707\n",
      "Epoch 5/100\n",
      "24/24 [==============================] - 0s 2ms/step - loss: 0.9457 - accuracy: 0.4760\n",
      "Epoch 6/100\n",
      "24/24 [==============================] - 0s 2ms/step - loss: 0.9078 - accuracy: 0.4853\n",
      "Epoch 7/100\n",
      "24/24 [==============================] - 0s 1ms/step - loss: 0.8757 - accuracy: 0.4947\n",
      "Epoch 8/100\n",
      "24/24 [==============================] - 0s 2ms/step - loss: 0.8485 - accuracy: 0.5027\n",
      "Epoch 9/100\n",
      "24/24 [==============================] - 0s 2ms/step - loss: 0.8253 - accuracy: 0.5120\n",
      "Epoch 10/100\n",
      "24/24 [==============================] - 0s 2ms/step - loss: 0.8045 - accuracy: 0.5213\n",
      "Epoch 11/100\n",
      "24/24 [==============================] - 0s 2ms/step - loss: 0.7859 - accuracy: 0.5267\n",
      "Epoch 12/100\n",
      "24/24 [==============================] - 0s 2ms/step - loss: 0.7688 - accuracy: 0.5413\n",
      "Epoch 13/100\n",
      "24/24 [==============================] - 0s 2ms/step - loss: 0.7534 - accuracy: 0.5547\n",
      "Epoch 14/100\n",
      "24/24 [==============================] - 0s 2ms/step - loss: 0.7394 - accuracy: 0.5627\n",
      "Epoch 15/100\n",
      "24/24 [==============================] - 0s 1ms/step - loss: 0.7262 - accuracy: 0.5733\n",
      "Epoch 16/100\n",
      "24/24 [==============================] - 0s 2ms/step - loss: 0.7136 - accuracy: 0.5787\n",
      "Epoch 17/100\n",
      "24/24 [==============================] - 0s 2ms/step - loss: 0.7021 - accuracy: 0.5867\n",
      "Epoch 18/100\n",
      "24/24 [==============================] - 0s 2ms/step - loss: 0.6910 - accuracy: 0.5893\n",
      "Epoch 19/100\n",
      "24/24 [==============================] - 0s 1ms/step - loss: 0.6809 - accuracy: 0.5920\n",
      "Epoch 20/100\n",
      "24/24 [==============================] - 0s 1ms/step - loss: 0.6715 - accuracy: 0.6013\n",
      "Epoch 21/100\n",
      "24/24 [==============================] - 0s 2ms/step - loss: 0.6625 - accuracy: 0.6093\n",
      "Epoch 22/100\n",
      "24/24 [==============================] - 0s 2ms/step - loss: 0.6543 - accuracy: 0.6133\n",
      "Epoch 23/100\n",
      "24/24 [==============================] - 0s 2ms/step - loss: 0.6462 - accuracy: 0.6133\n",
      "Epoch 24/100\n",
      "24/24 [==============================] - 0s 2ms/step - loss: 0.6386 - accuracy: 0.6200\n",
      "Epoch 25/100\n",
      "24/24 [==============================] - 0s 1ms/step - loss: 0.6313 - accuracy: 0.6253\n",
      "Epoch 26/100\n",
      "24/24 [==============================] - 0s 2ms/step - loss: 0.6243 - accuracy: 0.6280\n",
      "Epoch 27/100\n",
      "24/24 [==============================] - 0s 2ms/step - loss: 0.6178 - accuracy: 0.6320\n",
      "Epoch 28/100\n",
      "24/24 [==============================] - 0s 2ms/step - loss: 0.6112 - accuracy: 0.6373\n",
      "Epoch 29/100\n",
      "24/24 [==============================] - 0s 1ms/step - loss: 0.6050 - accuracy: 0.6467\n",
      "Epoch 30/100\n",
      "24/24 [==============================] - 0s 2ms/step - loss: 0.5989 - accuracy: 0.6533\n",
      "Epoch 31/100\n",
      "24/24 [==============================] - 0s 1ms/step - loss: 0.5930 - accuracy: 0.6573\n",
      "Epoch 32/100\n",
      "24/24 [==============================] - 0s 1ms/step - loss: 0.5873 - accuracy: 0.6613\n",
      "Epoch 33/100\n",
      "24/24 [==============================] - 0s 2ms/step - loss: 0.5817 - accuracy: 0.6627\n",
      "Epoch 34/100\n",
      "24/24 [==============================] - 0s 1ms/step - loss: 0.5762 - accuracy: 0.6680\n",
      "Epoch 35/100\n",
      "24/24 [==============================] - 0s 2ms/step - loss: 0.5712 - accuracy: 0.6720\n",
      "Epoch 36/100\n",
      "24/24 [==============================] - 0s 2ms/step - loss: 0.5662 - accuracy: 0.6747\n",
      "Epoch 37/100\n",
      "24/24 [==============================] - 0s 1ms/step - loss: 0.5615 - accuracy: 0.6787\n",
      "Epoch 38/100\n",
      "24/24 [==============================] - 0s 1ms/step - loss: 0.5568 - accuracy: 0.6840\n",
      "Epoch 39/100\n",
      "24/24 [==============================] - 0s 1ms/step - loss: 0.5523 - accuracy: 0.6867\n",
      "Epoch 40/100\n",
      "24/24 [==============================] - 0s 1ms/step - loss: 0.5478 - accuracy: 0.6893\n",
      "Epoch 41/100\n",
      "24/24 [==============================] - 0s 1ms/step - loss: 0.5435 - accuracy: 0.6920\n",
      "Epoch 42/100\n",
      "24/24 [==============================] - 0s 2ms/step - loss: 0.5393 - accuracy: 0.6920\n",
      "Epoch 43/100\n",
      "24/24 [==============================] - 0s 2ms/step - loss: 0.5353 - accuracy: 0.6947\n",
      "Epoch 44/100\n",
      "24/24 [==============================] - 0s 2ms/step - loss: 0.5312 - accuracy: 0.6960\n",
      "Epoch 45/100\n",
      "24/24 [==============================] - 0s 1ms/step - loss: 0.5274 - accuracy: 0.6987\n",
      "Epoch 46/100\n",
      "24/24 [==============================] - 0s 2ms/step - loss: 0.5236 - accuracy: 0.7040\n",
      "Epoch 47/100\n",
      "24/24 [==============================] - 0s 1ms/step - loss: 0.5199 - accuracy: 0.7093\n",
      "Epoch 48/100\n",
      "24/24 [==============================] - 0s 1ms/step - loss: 0.5161 - accuracy: 0.7120\n",
      "Epoch 49/100\n",
      "24/24 [==============================] - 0s 1ms/step - loss: 0.5125 - accuracy: 0.7133\n",
      "Epoch 50/100\n",
      "24/24 [==============================] - 0s 1ms/step - loss: 0.5089 - accuracy: 0.7147\n",
      "Epoch 51/100\n",
      "24/24 [==============================] - 0s 1ms/step - loss: 0.5051 - accuracy: 0.7187\n",
      "Epoch 52/100\n",
      "24/24 [==============================] - 0s 1ms/step - loss: 0.5015 - accuracy: 0.7213\n",
      "Epoch 53/100\n",
      "24/24 [==============================] - 0s 1ms/step - loss: 0.4977 - accuracy: 0.7280\n",
      "Epoch 54/100\n",
      "24/24 [==============================] - 0s 1ms/step - loss: 0.4941 - accuracy: 0.7307\n",
      "Epoch 55/100\n",
      "24/24 [==============================] - 0s 1ms/step - loss: 0.4903 - accuracy: 0.7320\n",
      "Epoch 56/100\n",
      "24/24 [==============================] - 0s 1ms/step - loss: 0.4867 - accuracy: 0.7333\n",
      "Epoch 57/100\n",
      "24/24 [==============================] - 0s 1ms/step - loss: 0.4830 - accuracy: 0.7347\n",
      "Epoch 58/100\n",
      "24/24 [==============================] - 0s 1ms/step - loss: 0.4792 - accuracy: 0.7387\n",
      "Epoch 59/100\n",
      "24/24 [==============================] - 0s 1ms/step - loss: 0.4754 - accuracy: 0.7413\n",
      "Epoch 60/100\n",
      "24/24 [==============================] - 0s 1ms/step - loss: 0.4716 - accuracy: 0.7440\n",
      "Epoch 61/100\n",
      "24/24 [==============================] - 0s 1ms/step - loss: 0.4679 - accuracy: 0.7467\n",
      "Epoch 62/100\n",
      "24/24 [==============================] - 0s 2ms/step - loss: 0.4640 - accuracy: 0.7480\n",
      "Epoch 63/100\n",
      "24/24 [==============================] - 0s 2ms/step - loss: 0.4602 - accuracy: 0.7507\n",
      "Epoch 64/100\n",
      "24/24 [==============================] - 0s 1ms/step - loss: 0.4564 - accuracy: 0.7507\n",
      "Epoch 65/100\n",
      "24/24 [==============================] - 0s 2ms/step - loss: 0.4525 - accuracy: 0.7533\n",
      "Epoch 66/100\n",
      "24/24 [==============================] - 0s 2ms/step - loss: 0.4488 - accuracy: 0.7560\n",
      "Epoch 67/100\n",
      "24/24 [==============================] - 0s 2ms/step - loss: 0.4449 - accuracy: 0.7613\n",
      "Epoch 68/100\n",
      "24/24 [==============================] - 0s 2ms/step - loss: 0.4411 - accuracy: 0.7627\n",
      "Epoch 69/100\n",
      "24/24 [==============================] - 0s 2ms/step - loss: 0.4370 - accuracy: 0.7667\n",
      "Epoch 70/100\n",
      "24/24 [==============================] - 0s 1ms/step - loss: 0.4331 - accuracy: 0.7680\n",
      "Epoch 71/100\n",
      "24/24 [==============================] - 0s 1ms/step - loss: 0.4291 - accuracy: 0.7733\n",
      "Epoch 72/100\n",
      "24/24 [==============================] - 0s 1ms/step - loss: 0.4251 - accuracy: 0.7787\n",
      "Epoch 73/100\n",
      "24/24 [==============================] - 0s 1ms/step - loss: 0.4209 - accuracy: 0.7813\n",
      "Epoch 74/100\n",
      "24/24 [==============================] - 0s 1ms/step - loss: 0.4167 - accuracy: 0.7867\n",
      "Epoch 75/100\n",
      "24/24 [==============================] - ETA: 0s - loss: 0.4686 - accuracy: 0.71 - 0s 1ms/step - loss: 0.4125 - accuracy: 0.7880\n",
      "Epoch 76/100\n",
      "24/24 [==============================] - 0s 1ms/step - loss: 0.4083 - accuracy: 0.7907\n",
      "Epoch 77/100\n",
      "24/24 [==============================] - 0s 1ms/step - loss: 0.4044 - accuracy: 0.7907\n",
      "Epoch 78/100\n",
      "24/24 [==============================] - 0s 1ms/step - loss: 0.4003 - accuracy: 0.7933\n",
      "Epoch 79/100\n",
      "24/24 [==============================] - 0s 1ms/step - loss: 0.3961 - accuracy: 0.7947\n",
      "Epoch 80/100\n",
      "24/24 [==============================] - 0s 1ms/step - loss: 0.3921 - accuracy: 0.7973\n",
      "Epoch 81/100\n",
      "24/24 [==============================] - 0s 1ms/step - loss: 0.3881 - accuracy: 0.8027\n",
      "Epoch 82/100\n"
     ]
    },
    {
     "name": "stdout",
     "output_type": "stream",
     "text": [
      "24/24 [==============================] - 0s 1ms/step - loss: 0.3841 - accuracy: 0.8027\n",
      "Epoch 83/100\n",
      "24/24 [==============================] - 0s 1ms/step - loss: 0.3800 - accuracy: 0.8067\n",
      "Epoch 84/100\n",
      "24/24 [==============================] - 0s 1ms/step - loss: 0.3759 - accuracy: 0.8107\n",
      "Epoch 85/100\n",
      "24/24 [==============================] - 0s 1ms/step - loss: 0.3719 - accuracy: 0.8133\n",
      "Epoch 86/100\n",
      "24/24 [==============================] - 0s 1ms/step - loss: 0.3679 - accuracy: 0.8173\n",
      "Epoch 87/100\n",
      "24/24 [==============================] - 0s 1ms/step - loss: 0.3639 - accuracy: 0.8240\n",
      "Epoch 88/100\n",
      "24/24 [==============================] - 0s 1ms/step - loss: 0.3601 - accuracy: 0.8253\n",
      "Epoch 89/100\n",
      "24/24 [==============================] - 0s 1ms/step - loss: 0.3562 - accuracy: 0.8267\n",
      "Epoch 90/100\n",
      "24/24 [==============================] - 0s 1ms/step - loss: 0.3525 - accuracy: 0.8320\n",
      "Epoch 91/100\n",
      "24/24 [==============================] - 0s 1ms/step - loss: 0.3487 - accuracy: 0.8347\n",
      "Epoch 92/100\n",
      "24/24 [==============================] - 0s 1ms/step - loss: 0.3452 - accuracy: 0.8373\n",
      "Epoch 93/100\n",
      "24/24 [==============================] - 0s 1ms/step - loss: 0.3418 - accuracy: 0.8373\n",
      "Epoch 94/100\n",
      "24/24 [==============================] - 0s 1ms/step - loss: 0.3385 - accuracy: 0.8373\n",
      "Epoch 95/100\n",
      "24/24 [==============================] - 0s 1ms/step - loss: 0.3353 - accuracy: 0.8387\n",
      "Epoch 96/100\n",
      "24/24 [==============================] - 0s 1ms/step - loss: 0.3323 - accuracy: 0.8400\n",
      "Epoch 97/100\n",
      "24/24 [==============================] - 0s 1ms/step - loss: 0.3293 - accuracy: 0.8413\n",
      "Epoch 98/100\n",
      "24/24 [==============================] - 0s 1ms/step - loss: 0.3265 - accuracy: 0.8427\n",
      "Epoch 99/100\n",
      "24/24 [==============================] - 0s 1ms/step - loss: 0.3239 - accuracy: 0.8453\n",
      "Epoch 100/100\n",
      "24/24 [==============================] - 0s 1ms/step - loss: 0.3215 - accuracy: 0.8493\n"
     ]
    }
   ],
   "source": [
    "# Training the model with the nonlinear data\n",
    "model_moon = nn_model.fit(X_moon_train_scaled, y_moon_train, epochs=100, shuffle=True)"
   ]
  },
  {
   "cell_type": "code",
   "execution_count": 18,
   "id": "2cda1b8c",
   "metadata": {},
   "outputs": [
    {
     "data": {
      "text/plain": [
       "<AxesSubplot:>"
      ]
     },
     "execution_count": 18,
     "metadata": {},
     "output_type": "execute_result"
    },
    {
     "data": {
      "image/png": "[encoded data removed]",
      "text/plain": [
       "<Figure size 432x288 with 1 Axes>"
      ]
     },
     "metadata": {
      "needs_background": "light"
     },
     "output_type": "display_data"
    }
   ],
   "source": [
    "# Create a DataFrame containing training history\n",
    "history_df = pd.DataFrame(model_moon.history, index=range(1,len(model_moon.history[\"loss\"])+1))\n",
    "\n",
    "# Plot the loss\n",
    "history_df.plot(y=\"loss\")"
   ]
  },
  {
   "cell_type": "code",
   "execution_count": 19,
   "id": "8ea47a87",
   "metadata": {},
   "outputs": [
    {
     "data": {
      "text/plain": [
       "<AxesSubplot:>"
      ]
     },
     "execution_count": 19,
     "metadata": {},
     "output_type": "execute_result"
    },
    {
     "data": {
      "image/png": "[encoded data removed]",
      "text/plain": [
       "<Figure size 432x288 with 1 Axes>"
      ]
     },
     "metadata": {
      "needs_background": "light"
     },
     "output_type": "display_data"
    }
   ],
   "source": [
    "# Plot the accuracy\n",
    "history_df.plot(y=\"accuracy\")"
   ]
  },
  {
   "cell_type": "code",
   "execution_count": 20,
   "id": "b29d334e",
   "metadata": {},
   "outputs": [],
   "source": [
    "# Generate our new Sequential model\n",
    "new_model = tf.keras.models.Sequential()"
   ]
  },
  {
   "cell_type": "code",
   "execution_count": 21,
   "id": "69dd5598",
   "metadata": {},
   "outputs": [],
   "source": [
    "# Add the input and hidden layer\n",
    "number_inputs = 2\n",
    "number_hidden_nodes = 6\n",
    "new_model.add(tf.keras.layers.Dense(units=number_hidden_nodes, activation=\"relu\", input_dim=number_inputs))\n",
    "# Add the output layer that uses a probability activation function\n",
    "new_model.add(tf.keras.layers.Dense(units=1, activation=\"sigmoid\"))\n"
   ]
  },
  {
   "cell_type": "code",
   "execution_count": 22,
   "id": "827603a0",
   "metadata": {},
   "outputs": [
    {
     "name": "stdout",
     "output_type": "stream",
     "text": [
      "Epoch 1/100\n",
      "24/24 [==============================] - 0s 1ms/step - loss: 0.7042 - accuracy: 0.4827\n",
      "Epoch 2/100\n",
      "24/24 [==============================] - 0s 1ms/step - loss: 0.6655 - accuracy: 0.5960\n",
      "Epoch 3/100\n",
      "24/24 [==============================] - 0s 1ms/step - loss: 0.6300 - accuracy: 0.6880\n",
      "Epoch 4/100\n",
      "24/24 [==============================] - 0s 909us/step - loss: 0.5969 - accuracy: 0.7027\n",
      "Epoch 5/100\n",
      "24/24 [==============================] - 0s 712us/step - loss: 0.5666 - accuracy: 0.7200\n",
      "Epoch 6/100\n",
      "24/24 [==============================] - 0s 624us/step - loss: 0.5382 - accuracy: 0.7307\n",
      "Epoch 7/100\n",
      "24/24 [==============================] - 0s 629us/step - loss: 0.5116 - accuracy: 0.7520\n",
      "Epoch 8/100\n",
      "24/24 [==============================] - 0s 672us/step - loss: 0.4868 - accuracy: 0.7707\n",
      "Epoch 9/100\n",
      "24/24 [==============================] - 0s 702us/step - loss: 0.4638 - accuracy: 0.7853\n",
      "Epoch 10/100\n",
      "24/24 [==============================] - 0s 641us/step - loss: 0.4426 - accuracy: 0.8000\n",
      "Epoch 11/100\n",
      "24/24 [==============================] - 0s 651us/step - loss: 0.4230 - accuracy: 0.8107\n",
      "Epoch 12/100\n",
      "24/24 [==============================] - 0s 842us/step - loss: 0.4050 - accuracy: 0.8147\n",
      "Epoch 13/100\n",
      "24/24 [==============================] - 0s 762us/step - loss: 0.3887 - accuracy: 0.8240\n",
      "Epoch 14/100\n",
      "24/24 [==============================] - 0s 814us/step - loss: 0.3741 - accuracy: 0.8333\n",
      "Epoch 15/100\n",
      "24/24 [==============================] - 0s 800us/step - loss: 0.3607 - accuracy: 0.8400\n",
      "Epoch 16/100\n",
      "24/24 [==============================] - 0s 660us/step - loss: 0.3490 - accuracy: 0.8507\n",
      "Epoch 17/100\n",
      "24/24 [==============================] - 0s 675us/step - loss: 0.3385 - accuracy: 0.8547\n",
      "Epoch 18/100\n",
      "24/24 [==============================] - 0s 718us/step - loss: 0.3289 - accuracy: 0.8613\n",
      "Epoch 19/100\n",
      "24/24 [==============================] - 0s 751us/step - loss: 0.3204 - accuracy: 0.8667\n",
      "Epoch 20/100\n",
      "24/24 [==============================] - 0s 817us/step - loss: 0.3126 - accuracy: 0.8707\n",
      "Epoch 21/100\n",
      "24/24 [==============================] - 0s 860us/step - loss: 0.3058 - accuracy: 0.8760\n",
      "Epoch 22/100\n",
      "24/24 [==============================] - 0s 893us/step - loss: 0.2996 - accuracy: 0.8760\n",
      "Epoch 23/100\n",
      "24/24 [==============================] - 0s 804us/step - loss: 0.2939 - accuracy: 0.8787\n",
      "Epoch 24/100\n",
      "24/24 [==============================] - 0s 700us/step - loss: 0.2887 - accuracy: 0.8813\n",
      "Epoch 25/100\n",
      "24/24 [==============================] - 0s 698us/step - loss: 0.2843 - accuracy: 0.8840\n",
      "Epoch 26/100\n",
      "24/24 [==============================] - 0s 796us/step - loss: 0.2801 - accuracy: 0.8853\n",
      "Epoch 27/100\n",
      "24/24 [==============================] - 0s 769us/step - loss: 0.2763 - accuracy: 0.8880\n",
      "Epoch 28/100\n",
      "24/24 [==============================] - 0s 761us/step - loss: 0.2726 - accuracy: 0.8893\n",
      "Epoch 29/100\n",
      "24/24 [==============================] - 0s 851us/step - loss: 0.2694 - accuracy: 0.8893\n",
      "Epoch 30/100\n",
      "24/24 [==============================] - 0s 893us/step - loss: 0.2664 - accuracy: 0.8907\n",
      "Epoch 31/100\n",
      "24/24 [==============================] - 0s 665us/step - loss: 0.2636 - accuracy: 0.8907\n",
      "Epoch 32/100\n",
      "24/24 [==============================] - 0s 697us/step - loss: 0.2611 - accuracy: 0.8893\n",
      "Epoch 33/100\n",
      "24/24 [==============================] - 0s 712us/step - loss: 0.2588 - accuracy: 0.8907\n",
      "Epoch 34/100\n",
      "24/24 [==============================] - 0s 839us/step - loss: 0.2567 - accuracy: 0.8920\n",
      "Epoch 35/100\n",
      "24/24 [==============================] - 0s 829us/step - loss: 0.2547 - accuracy: 0.8920\n",
      "Epoch 36/100\n",
      "24/24 [==============================] - 0s 722us/step - loss: 0.2527 - accuracy: 0.8933\n",
      "Epoch 37/100\n",
      "24/24 [==============================] - 0s 924us/step - loss: 0.2511 - accuracy: 0.8933\n",
      "Epoch 38/100\n",
      "24/24 [==============================] - 0s 902us/step - loss: 0.2494 - accuracy: 0.8920\n",
      "Epoch 39/100\n",
      "24/24 [==============================] - 0s 623us/step - loss: 0.2480 - accuracy: 0.8933\n",
      "Epoch 40/100\n",
      "24/24 [==============================] - 0s 650us/step - loss: 0.2466 - accuracy: 0.8933\n",
      "Epoch 41/100\n",
      "24/24 [==============================] - 0s 642us/step - loss: 0.2452 - accuracy: 0.8920\n",
      "Epoch 42/100\n",
      "24/24 [==============================] - 0s 680us/step - loss: 0.2440 - accuracy: 0.8920\n",
      "Epoch 43/100\n",
      "24/24 [==============================] - 0s 735us/step - loss: 0.2428 - accuracy: 0.8933\n",
      "Epoch 44/100\n",
      "24/24 [==============================] - 0s 675us/step - loss: 0.2417 - accuracy: 0.8933\n",
      "Epoch 45/100\n",
      "24/24 [==============================] - 0s 658us/step - loss: 0.2407 - accuracy: 0.8947\n",
      "Epoch 46/100\n",
      "24/24 [==============================] - 0s 704us/step - loss: 0.2398 - accuracy: 0.8947\n",
      "Epoch 47/100\n",
      "24/24 [==============================] - 0s 665us/step - loss: 0.2389 - accuracy: 0.8960\n",
      "Epoch 48/100\n",
      "24/24 [==============================] - 0s 669us/step - loss: 0.2382 - accuracy: 0.8960\n",
      "Epoch 49/100\n",
      "24/24 [==============================] - 0s 596us/step - loss: 0.2373 - accuracy: 0.8960\n",
      "Epoch 50/100\n",
      "24/24 [==============================] - 0s 699us/step - loss: 0.2365 - accuracy: 0.8960\n",
      "Epoch 51/100\n",
      "24/24 [==============================] - 0s 682us/step - loss: 0.2358 - accuracy: 0.8960\n",
      "Epoch 52/100\n",
      "24/24 [==============================] - 0s 658us/step - loss: 0.2351 - accuracy: 0.8987\n",
      "Epoch 53/100\n",
      "24/24 [==============================] - 0s 751us/step - loss: 0.2344 - accuracy: 0.8987\n",
      "Epoch 54/100\n",
      "24/24 [==============================] - 0s 711us/step - loss: 0.2337 - accuracy: 0.9000\n",
      "Epoch 55/100\n",
      "24/24 [==============================] - 0s 622us/step - loss: 0.2332 - accuracy: 0.9000\n",
      "Epoch 56/100\n",
      "24/24 [==============================] - 0s 749us/step - loss: 0.2325 - accuracy: 0.9000\n",
      "Epoch 57/100\n",
      "24/24 [==============================] - 0s 719us/step - loss: 0.2319 - accuracy: 0.9013\n",
      "Epoch 58/100\n",
      "24/24 [==============================] - 0s 786us/step - loss: 0.2315 - accuracy: 0.9000\n",
      "Epoch 59/100\n",
      "24/24 [==============================] - 0s 594us/step - loss: 0.2309 - accuracy: 0.9013\n",
      "Epoch 60/100\n",
      "24/24 [==============================] - 0s 659us/step - loss: 0.2303 - accuracy: 0.9013\n",
      "Epoch 61/100\n",
      "24/24 [==============================] - 0s 659us/step - loss: 0.2298 - accuracy: 0.9013\n",
      "Epoch 62/100\n",
      "24/24 [==============================] - 0s 623us/step - loss: 0.2294 - accuracy: 0.9013\n",
      "Epoch 63/100\n",
      "24/24 [==============================] - 0s 661us/step - loss: 0.2290 - accuracy: 0.9013\n",
      "Epoch 64/100\n",
      "24/24 [==============================] - 0s 679us/step - loss: 0.2284 - accuracy: 0.9013\n",
      "Epoch 65/100\n",
      "24/24 [==============================] - 0s 716us/step - loss: 0.2282 - accuracy: 0.9013\n",
      "Epoch 66/100\n",
      "24/24 [==============================] - 0s 707us/step - loss: 0.2276 - accuracy: 0.9013\n",
      "Epoch 67/100\n",
      "24/24 [==============================] - 0s 638us/step - loss: 0.2273 - accuracy: 0.9013\n",
      "Epoch 68/100\n",
      "24/24 [==============================] - 0s 666us/step - loss: 0.2268 - accuracy: 0.9013\n",
      "Epoch 69/100\n",
      "24/24 [==============================] - 0s 648us/step - loss: 0.2267 - accuracy: 0.9013\n",
      "Epoch 70/100\n",
      "24/24 [==============================] - 0s 677us/step - loss: 0.2262 - accuracy: 0.9013\n",
      "Epoch 71/100\n",
      "24/24 [==============================] - 0s 717us/step - loss: 0.2260 - accuracy: 0.9027\n",
      "Epoch 72/100\n",
      "24/24 [==============================] - 0s 683us/step - loss: 0.2255 - accuracy: 0.9027\n",
      "Epoch 73/100\n",
      "24/24 [==============================] - 0s 663us/step - loss: 0.2252 - accuracy: 0.9027\n",
      "Epoch 74/100\n",
      "24/24 [==============================] - 0s 658us/step - loss: 0.2248 - accuracy: 0.9027\n",
      "Epoch 75/100\n",
      "24/24 [==============================] - ETA: 0s - loss: 0.1117 - accuracy: 0.96 - 0s 702us/step - loss: 0.2250 - accuracy: 0.9013\n",
      "Epoch 76/100\n",
      "24/24 [==============================] - 0s 754us/step - loss: 0.2242 - accuracy: 0.9027\n",
      "Epoch 77/100\n",
      "24/24 [==============================] - 0s 647us/step - loss: 0.2239 - accuracy: 0.9027\n",
      "Epoch 78/100\n",
      "24/24 [==============================] - 0s 637us/step - loss: 0.2236 - accuracy: 0.9027\n",
      "Epoch 79/100\n",
      "24/24 [==============================] - 0s 655us/step - loss: 0.2233 - accuracy: 0.9027\n",
      "Epoch 80/100\n",
      "24/24 [==============================] - 0s 625us/step - loss: 0.2231 - accuracy: 0.9027\n",
      "Epoch 81/100\n"
     ]
    },
    {
     "name": "stdout",
     "output_type": "stream",
     "text": [
      "24/24 [==============================] - 0s 625us/step - loss: 0.2227 - accuracy: 0.9027\n",
      "Epoch 82/100\n",
      "24/24 [==============================] - 0s 701us/step - loss: 0.2225 - accuracy: 0.9040\n",
      "Epoch 83/100\n",
      "24/24 [==============================] - 0s 739us/step - loss: 0.2222 - accuracy: 0.9027\n",
      "Epoch 84/100\n",
      "24/24 [==============================] - 0s 593us/step - loss: 0.2220 - accuracy: 0.9040\n",
      "Epoch 85/100\n",
      "24/24 [==============================] - 0s 722us/step - loss: 0.2217 - accuracy: 0.9040\n",
      "Epoch 86/100\n",
      "24/24 [==============================] - 0s 702us/step - loss: 0.2214 - accuracy: 0.9027\n",
      "Epoch 87/100\n",
      "24/24 [==============================] - 0s 672us/step - loss: 0.2212 - accuracy: 0.9027\n",
      "Epoch 88/100\n",
      "24/24 [==============================] - 0s 677us/step - loss: 0.2210 - accuracy: 0.9040\n",
      "Epoch 89/100\n",
      "24/24 [==============================] - 0s 633us/step - loss: 0.2207 - accuracy: 0.9027\n",
      "Epoch 90/100\n",
      "24/24 [==============================] - 0s 704us/step - loss: 0.2205 - accuracy: 0.9027\n",
      "Epoch 91/100\n",
      "24/24 [==============================] - 0s 813us/step - loss: 0.2205 - accuracy: 0.9027\n",
      "Epoch 92/100\n",
      "24/24 [==============================] - 0s 936us/step - loss: 0.2200 - accuracy: 0.9027\n",
      "Epoch 93/100\n",
      "24/24 [==============================] - 0s 680us/step - loss: 0.2198 - accuracy: 0.9013\n",
      "Epoch 94/100\n",
      "24/24 [==============================] - 0s 765us/step - loss: 0.2196 - accuracy: 0.9000\n",
      "Epoch 95/100\n",
      "24/24 [==============================] - 0s 790us/step - loss: 0.2194 - accuracy: 0.9027\n",
      "Epoch 96/100\n",
      "24/24 [==============================] - 0s 663us/step - loss: 0.2192 - accuracy: 0.9040\n",
      "Epoch 97/100\n",
      "24/24 [==============================] - 0s 666us/step - loss: 0.2190 - accuracy: 0.9040\n",
      "Epoch 98/100\n",
      "24/24 [==============================] - 0s 674us/step - loss: 0.2188 - accuracy: 0.9040\n",
      "Epoch 99/100\n",
      "24/24 [==============================] - 0s 731us/step - loss: 0.2188 - accuracy: 0.9013\n",
      "Epoch 100/100\n",
      "24/24 [==============================] - 0s 833us/step - loss: 0.2184 - accuracy: 0.9013\n"
     ]
    }
   ],
   "source": [
    "# Compile the Sequential model together and customize metrics\n",
    "new_model.compile(loss=\"binary_crossentropy\", optimizer=\"adam\", metrics=[\"accuracy\"])\n",
    "\n",
    "# Fit the model to the training data\n",
    "new_fit_model = new_model.fit(X_moon_train_scaled, y_moon_train, epochs=100, shuffle=True)"
   ]
  }
 ],
 "metadata": {
  "kernelspec": {
   "display_name": "mlenv",
   "language": "python",
   "name": "mlenv"
  },
  "language_info": {
   "codemirror_mode": {
    "name": "ipython",
    "version": 3
   },
   "file_extension": ".py",
   "mimetype": "text/x-python",
   "name": "python",
   "nbconvert_exporter": "python",
   "pygments_lexer": "ipython3",
   "version": "3.7.11"
  }
 },
 "nbformat": 4,
 "nbformat_minor": 5
}
